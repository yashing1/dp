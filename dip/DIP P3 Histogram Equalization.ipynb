{
 "cells": [
  {
   "cell_type": "code",
   "execution_count": null,
   "id": "dbe73be3",
   "metadata": {},
   "outputs": [],
   "source": [
    "import numpy as np\n",
    "from skimage.io import imread\n",
    "from skimage.color import rgb2gray\n",
    "from skimage import data, img_as_float, img_as_ubyte, exposure, io, color\n",
    "from PIL import Image, ImageEnhance, ImageFilter\n",
    "from scipy import ndimage, misc\n",
    "import matplotlib.pyplot as pylab\n",
    "import cv2"
   ]
  },
  {
   "cell_type": "code",
   "execution_count": null,
   "id": "f3b55b29",
   "metadata": {},
   "outputs": [],
   "source": [
    "def plot_image(image, title=\"\"):\n",
    "    pylab.title(title, size=10), pylab.imshow(image)\n",
    "    pylab.axis('off')"
   ]
  },
  {
   "cell_type": "code",
   "execution_count": null,
   "id": "9f9fb25b",
   "metadata": {},
   "outputs": [],
   "source": [
    "def plot_hist(r,g,b,title=\"\"):\n",
    "    r,g,b=img_as_ubyte(r),img_as_ubyte(g),img_as_ubyte(b)\n",
    "    pylab.hist(np.array(r).ravel(),bins=256, range=(0,256),color='r',alpha=0.3)\n",
    "    pylab.hist(np.array(g).ravel(),bins=256, range=(0,256),color='g',alpha=0.3)\n",
    "    pylab.hist(np.array(b).ravel(),bins=256, range=(0,256),color='b',alpha=0.3)\n",
    "    pylab.xlabel('Pixel Values', size=20), pylab.ylabel('Frequency',size=20)\n",
    "    pylab.title(title,size=10)\n",
    "\n",
    "im=Image.open('images/elephant2.jpeg')\n",
    "im_r,im_g,im_b=im.split()\n",
    "pylab.style.use('ggplot')\n",
    "pylab.figure(figsize=(15,5))\n",
    "pylab.subplot(121), plot_image(im, 'Orginal Image')\n",
    "pylab.subplot(122),plot_hist(im_r,im_g,im_b,'Histogram of Image')\n",
    "pylab.show()\n",
    "    "
   ]
  },
  {
   "cell_type": "code",
   "execution_count": null,
   "id": "8e3e594e",
   "metadata": {},
   "outputs": [],
   "source": [
    "img = cv2.imread(\"images/elephant2.jpeg\", 0)\n",
    "  \n",
    "\n",
    "equ = cv2.equalizeHist(img)\n",
    "  \n",
    "\n",
    "res = np.hstack((img, equ))\n",
    "  \n",
    "\n",
    "cv2.imshow(\"images/\", res)\n",
    "  \n",
    "cv2.waitKey(0)\n",
    "cv2.destroyAllWindows()"
   ]
  },
  {
   "cell_type": "code",
   "execution_count": null,
   "id": "a6c91e81",
   "metadata": {},
   "outputs": [],
   "source": [
    "im=Image.open('images/elephant.jpeg').convert('L')\n",
    "pylab.hist(np.array(im).ravel(), bins=256, range=(0,256), color='g')\n",
    "pylab.xlabel('Pixel Values')\n",
    "pylab.ylabel('Fequency')\n",
    "pylab.title('Histogram of Puxel Values')\n",
    "pylab.show()\n",
    "pylab.figure(figsize=(12,18))\n",
    "pylab.gray()\n",
    "pylab.subplot(221), plot_image(im,'Original Image')\n",
    "\n",
    "thres=[0,50,100,150,200]\n",
    "for i in range(2,5):\n",
    "    im1=im.point(lambda x: x>thres[i])\n",
    "    pylab.subplot(2,2,i)\n",
    "    plot_image(im1, 'Binary Image with thres='+str(thres[i]))\n",
    "pylab.show()"
   ]
  },
  {
   "cell_type": "code",
   "execution_count": null,
   "id": "029e018f",
   "metadata": {},
   "outputs": [],
   "source": []
  }
 ],
 "metadata": {
  "kernelspec": {
   "display_name": "Python 3 (ipykernel)",
   "language": "python",
   "name": "python3"
  },
  "language_info": {
   "codemirror_mode": {
    "name": "ipython",
    "version": 3
   },
   "file_extension": ".py",
   "mimetype": "text/x-python",
   "name": "python",
   "nbconvert_exporter": "python",
   "pygments_lexer": "ipython3",
   "version": "3.9.7"
  }
 },
 "nbformat": 4,
 "nbformat_minor": 5
}
